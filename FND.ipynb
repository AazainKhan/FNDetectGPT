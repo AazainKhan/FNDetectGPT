{
 "cells": [
  {
   "cell_type": "code",
   "execution_count": null,
   "metadata": {},
   "outputs": [],
   "source": [
    "import openai\n",
    "import os\n",
    "import pandas as pd # data manipulation and analysis\n",
    "import numpy as np # python lib for working with arrays, linear algebra\n",
    "import seaborn as sns # data exploration and visualisation\n",
    "import matplotlib.pyplot as plt # data visulisation and graphical charting\n",
    "from sklearn.model_selection import train_test_split # create 2 subsets of the data (training and testing)\n",
    "from sklearn.metrics import accuracy_score # accuracy of correctly classified among all samples.\n",
    "from sklearn.metrics import classification_report # generating a human-readable text report\n",
    "from sklearn.feature_extraction.text import TfidfVectorizer\n",
    "from sklearn.metrics.pairwise import cosine_similarity\n",
    "import string \n",
    "import re # determine if a given text fits the given regular expression "
   ]
  },
  {
   "cell_type": "code",
   "execution_count": null,
   "metadata": {},
   "outputs": [],
   "source": [
    "data_fake = pd.read_csv('Datasets/Fake.csv')\n",
    "data_true = pd.read_csv('Datasets/True.csv')\n",
    "data_fake.head()"
   ]
  },
  {
   "cell_type": "code",
   "execution_count": null,
   "metadata": {},
   "outputs": [],
   "source": [
    "data_true.head()"
   ]
  },
  {
   "cell_type": "markdown",
   "metadata": {},
   "source": []
  },
  {
   "attachments": {},
   "cell_type": "markdown",
   "metadata": {},
   "source": [
    "Add a label column to the data and concatenate the two datasets"
   ]
  },
  {
   "cell_type": "code",
   "execution_count": null,
   "metadata": {},
   "outputs": [],
   "source": [
    "data_fake['label'] = 0\n",
    "data_true['label'] = 1\n",
    "data = pd.concat([data_fake, data_true])"
   ]
  },
  {
   "cell_type": "code",
   "execution_count": null,
   "metadata": {},
   "outputs": [],
   "source": [
    "data_fake.shape, data_true.shape # returns the shape of an array which is a tuple of integers containing entries "
   ]
  },
  {
   "attachments": {},
   "cell_type": "markdown",
   "metadata": {},
   "source": [
    "data_fake contains 23481 rows and 5 columns\n",
    "data_true contains 21417 rows and 5 columns"
   ]
  },
  {
   "cell_type": "code",
   "execution_count": null,
   "metadata": {},
   "outputs": [],
   "source": [
    "print(data_fake.index)\n",
    "print(data_true.index)"
   ]
  },
  {
   "attachments": {},
   "cell_type": "markdown",
   "metadata": {},
   "source": [
    "Split the data into training and testing sets\n",
    "- data: the dataset to split into training and testing sets\n",
    "- test_size: the proportion of the dataset to use for testing (e.g. 0.2 for 20%)\n",
    "- random_state: the seed used by the random number generator for reproducibility"
   ]
  },
  {
   "cell_type": "code",
   "execution_count": null,
   "metadata": {},
   "outputs": [],
   "source": [
    "X_train, X_test, y_train, y_test = train_test_split(\n",
    "    data['text'],  # the feature (text) to be used for training and testing\n",
    "    data['label'],  # the target (label) to be predicted for training and testing\n",
    "    test_size=0.2,  # use 20% of the data for testing\n",
    "    random_state=42  # use a fixed seed for reproducibility\n",
    ")"
   ]
  },
  {
   "attachments": {},
   "cell_type": "markdown",
   "metadata": {},
   "source": [
    "Train the TF-IDF vectorizer"
   ]
  },
  {
   "cell_type": "code",
   "execution_count": null,
   "metadata": {},
   "outputs": [],
   "source": [
    "vectorizer = TfidfVectorizer()\n",
    "X_train_vect = vectorizer.fit_transform(X_train)"
   ]
  },
  {
   "attachments": {},
   "cell_type": "markdown",
   "metadata": {},
   "source": [
    "Set up OpenAI API"
   ]
  },
  {
   "cell_type": "code",
   "execution_count": null,
   "metadata": {},
   "outputs": [],
   "source": [
    "openai.api_key = os.environ[\"OPENAI_API_KEY\"]"
   ]
  },
  {
   "attachments": {},
   "cell_type": "markdown",
   "metadata": {},
   "source": [
    "Prompts to generate a news article based on user input which asks for what the news should be about."
   ]
  },
  {
   "cell_type": "code",
   "execution_count": null,
   "metadata": {},
   "outputs": [],
   "source": [
    "about = input(\"What would you like news about?\\n\")\n",
    "article = openai.Completion.create(\n",
    "    engine=\"text-davinci-002\",\n",
    "    prompt= \"Genrate a news article about the following\" + about,\n",
    "    max_tokens=2048,\n",
    "    n=1,\n",
    "    stop=None,\n",
    "    temperature=0.7,\n",
    ")"
   ]
  },
  {
   "attachments": {},
   "cell_type": "markdown",
   "metadata": {},
   "source": [
    "Vectorize the generated article and test data\n",
    "\n",
    "- Vectorization is a process of converting text data into a format that can be used for machine learning.\n",
    "- We are converting the article's text into a numerical format that the computer can work with.\n",
    "- Vectorize the test data, to convert the text of the news articles in the test set into numerical format."
   ]
  },
  {
   "cell_type": "code",
   "execution_count": null,
   "metadata": {},
   "outputs": [],
   "source": [
    "article_vect = vectorizer.transform([article.choices[0].text])\n",
    "X_test_vect = vectorizer.transform(X_test)"
   ]
  },
  {
   "attachments": {},
   "cell_type": "markdown",
   "metadata": {},
   "source": [
    "The dot product helps measure the similarity between the generated article and each article in the test data by multiplying their corresponding numerical vectors together and adding up the results."
   ]
  },
  {
   "cell_type": "code",
   "execution_count": null,
   "metadata": {},
   "outputs": [],
   "source": [
    "similarities = article_vect.dot(X_test_vect.T)"
   ]
  },
  {
   "attachments": {},
   "cell_type": "markdown",
   "metadata": {},
   "source": [
    "Get the index of the most similar article"
   ]
  },
  {
   "cell_type": "code",
   "execution_count": null,
   "metadata": {},
   "outputs": [],
   "source": [
    "most_similar_index = similarities.argmax()"
   ]
  },
  {
   "attachments": {},
   "cell_type": "markdown",
   "metadata": {},
   "source": [
    "Get the label of the most similar article"
   ]
  },
  {
   "cell_type": "code",
   "execution_count": null,
   "metadata": {},
   "outputs": [],
   "source": [
    "y_pred = y_test.iloc[most_similar_index]"
   ]
  },
  {
   "attachments": {},
   "cell_type": "markdown",
   "metadata": {},
   "source": [
    "- Print the generated article\n",
    "- Test the accuracy of the generated article\n",
    "- Print the classification report"
   ]
  },
  {
   "attachments": {},
   "cell_type": "markdown",
   "metadata": {},
   "source": [
    "The line similarities.argmax() returns the index of the test article that is most similar to the generated article.\n",
    "\n",
    "If i is equal to the index of the most similar article, it sets the prediction to 1 (indicating that the article is true), otherwise, it sets the prediction to 0 (indicating that the article is fake)."
   ]
  },
  {
   "cell_type": "code",
   "execution_count": 75,
   "metadata": {},
   "outputs": [
    {
     "name": "stdout",
     "output_type": "stream",
     "text": [
      "\n",
      "Generated news: \n",
      " \n",
      "\n",
      "Dolphins are transforming into other species, according to a new study.\n",
      "\n",
      "Scientists have long known that dolphins are some of the most intelligent animals on the planet. But a new study has found that they may be even more flexible than we thought, with the ability to change their appearance to match other species.\n",
      "\n",
      "The study, published in the journal BMC Evolutionary Biology, looked at two groups of dolphins in the Gulf of Mexico. One group had been exposed to other dolphin species for a long time, while the other had been isolated from them.\n",
      "\n",
      "The researchers found that the dolphins in the first group had changed their appearance to match the other species, while the dolphins in the second group had not. This suggests that dolphins have the ability to change their appearance to fit in with their surroundings.\n",
      "\n",
      "The study's lead author, Dr. Arianna Di Loreto, said that the findings could have important implications for conservation. \"If dolphins can change their appearance to match other species, it means they may be able to adapt to new environments,\" she said. \"This could be important for their survival in a changing world.\"\n",
      "\n",
      "The study's co-author, Dr. Elisabetta Palumbo, added that the findings could also help us to understand how other animals change their appearance. \"This research shows that dolphins are not only intelligent, but also flexible in their ability to adapt to their surroundings,\" she said. \"This could have implications for our understanding of how other animals, including humans, change their appearance over time.\"\n",
      "\n",
      "Accuracy:  False\n",
      "\n",
      "Classification report: \n",
      "               precision    recall  f1-score   support\n",
      "\n",
      "           0       0.53      1.00      0.69      4733\n",
      "           1       0.00      0.00      0.00      4247\n",
      "\n",
      "    accuracy                           0.53      8980\n",
      "   macro avg       0.26      0.50      0.35      8980\n",
      "weighted avg       0.28      0.53      0.36      8980\n",
      "\n"
     ]
    }
   ],
   "source": [
    "print(\"\\nGenerated news: \\n\", article.choices[0].text)\n",
    "\n",
    "# predict the label based on the similarity score\n",
    "y_pred = [1 if i == similarities.argmax() else 0 for i in range(len(X_test))]\n",
    "\n",
    "print(\"\\nAccuracy: \", y_pred == 1)\n",
    "\n",
    "print(\"\\nClassification report: \\n\", classification_report(y_test, y_pred))\n"
   ]
  }
 ],
 "metadata": {
  "kernelspec": {
   "display_name": "Python 3",
   "language": "python",
   "name": "python3"
  },
  "language_info": {
   "codemirror_mode": {
    "name": "ipython",
    "version": 3
   },
   "file_extension": ".py",
   "mimetype": "text/x-python",
   "name": "python",
   "nbconvert_exporter": "python",
   "pygments_lexer": "ipython3",
   "version": "3.11.1"
  },
  "orig_nbformat": 4
 },
 "nbformat": 4,
 "nbformat_minor": 2
}
